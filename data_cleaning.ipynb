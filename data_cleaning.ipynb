
{
 "cells": [
  {
   "cell_type": "markdown",
   "metadata": {},
   "source": [
    "# Task 1 – Data Cleaning Notebook"
   ]
  },
  {
   "cell_type": "code",
   "execution_count": null,
   "metadata": {},
   "outputs": [],
   "source": [
    "import pandas as pd\n",
    "\n",
    "# Load dataset\n",
    "df = pd.read_csv('../data/auto_sales_data.csv')\n",
    "\n",
    "# Clean column names\n",
    "df.columns = [col.strip().lower().replace(' ', '_') for col in df.columns]\n",
    "\n",
    "# Convert orderdate to datetime\n",
    "df['orderdate'] = pd.to_datetime(df['orderdate'], dayfirst=True, errors='coerce')\n",
    "\n",
    "# Drop duplicates\n",
    "df = df.drop_duplicates()\n",
    "\n",
    "# Clean text fields\n",
    "text_cols = df.select_dtypes(include='object').columns\n",
    "for col in text_cols:\n",
    "    df[col] = df[col].astype(str).strip().str.title()\n",
    "\n",
    "# Format postal code\n",
    "df['postalcode'] = df['postalcode'].astype(str).str.zfill(5)\n",
    "\n",
    "# Save cleaned data\n",
    "df.to_csv('../data/auto_sales_clean.csv', index=False)"
   ]
  }
 ],
 "metadata": {
  "kernelspec": {
   "display_name": "Python 3",
   "language": "python",
   "name": "python3"
  },
  "language_info": {
   "name": "python"
  }
 },
 "nbformat": 4,
 "nbformat_minor": 2
}
